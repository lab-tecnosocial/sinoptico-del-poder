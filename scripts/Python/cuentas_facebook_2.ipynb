{
 "cells": [
  {
   "cell_type": "code",
   "execution_count": 26,
   "metadata": {},
   "outputs": [],
   "source": [
    "# Datos de perfiles de facebook de concejales del eje troncal\n",
    "import pandas as pd\n",
    "import time\n",
    "from googlesearch import search\n",
    "import json"
   ]
  },
  {
   "cell_type": "code",
   "execution_count": 15,
   "metadata": {},
   "outputs": [],
   "source": [
    "data_url = \"https://raw.githubusercontent.com/lab-tecnosocial/sinoptico-del-poder/main/data/datos_limpios.csv\"\n",
    "palabra_clave = \" facebook\"\n",
    "df_gobernantes = pd.read_csv(data_url)\n",
    "df_concejales = df_gobernantes[df_gobernantes[\"tipo_cargo\"].isin([\"Concejal\", \"Alcalde\"])]\n",
    "lista_nombres = pd.Series.tolist(df_concejales[\"nombre\"].dropna() + palabra_clave)"
   ]
  },
  {
   "cell_type": "code",
   "execution_count": 16,
   "metadata": {},
   "outputs": [],
   "source": [
    "fb_concejales = []\n",
    "for i in range(90, len(lista_nombres)):\n",
    "    query = lista_nombres[i]\n",
    "    results = search(lista_nombres[i], num_results=3, lang=\"es\")\n",
    "    fb_concejales.append({\"query\": query, \"results\": results})\n",
    "    time.sleep(1)"
   ]
  },
  {
   "cell_type": "code",
   "execution_count": 27,
   "metadata": {},
   "outputs": [],
   "source": [
    "with open(\"../../data/fb_concejales.json\", \"w\") as file:\n",
    "    json.dump(fb_concejales, file)\n",
    "    "
   ]
  }
 ],
 "metadata": {
  "interpreter": {
   "hash": "3067ead486e059ec00ffe7555bdb889e6e264a24dc711bf108106cc7baee8d5d"
  },
  "kernelspec": {
   "display_name": "Python 3.8.8 64-bit ('base': conda)",
   "language": "python",
   "name": "python3"
  },
  "language_info": {
   "codemirror_mode": {
    "name": "ipython",
    "version": 3
   },
   "file_extension": ".py",
   "mimetype": "text/x-python",
   "name": "python",
   "nbconvert_exporter": "python",
   "pygments_lexer": "ipython3",
   "version": "3.8.8"
  },
  "orig_nbformat": 4
 },
 "nbformat": 4,
 "nbformat_minor": 2
}
