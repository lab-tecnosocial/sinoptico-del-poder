{
 "cells": [
  {
   "cell_type": "code",
   "execution_count": 51,
   "metadata": {},
   "outputs": [],
   "source": [
    "import requests\n",
    "from bs4 import BeautifulSoup\n",
    "import pandas as pd"
   ]
  },
  {
   "cell_type": "code",
   "execution_count": 11,
   "metadata": {},
   "outputs": [],
   "source": [
    "url_senadores = 'https://web.senado.gob.bo/legislativa/bancadas'\n",
    "req = requests.get(url_senadores)\n",
    "soap = BeautifulSoup(req.text, 'html.parser')\n",
    "tarjetas = soap.find_all('div', attrs={'class': 'thumbnail'})"
   ]
  },
  {
   "cell_type": "code",
   "execution_count": 67,
   "metadata": {},
   "outputs": [],
   "source": [
    "lista_datos = []\n",
    "for tarjeta in tarjetas:\n",
    "    nombre = tarjeta.div.next_sibling.next_sibling.p.string\n",
    "    departamento = tarjeta.div.next_sibling.next_sibling.next_sibling.next_sibling.p.string\n",
    "    enlace = 'https://web.senado.gob.bo' + tarjeta.div.next_sibling.next_sibling.p.a['href']\n",
    "    url_imagen = tarjeta.div.div.a['href']\n",
    "    lista_datos.append({'nombre': nombre, \"departamento\": departamento, 'enlace': enlace, 'url_imagen': url_imagen})\n",
    "    \n"
   ]
  },
  {
   "cell_type": "code",
   "execution_count": 68,
   "metadata": {},
   "outputs": [],
   "source": [
    "df_datos = pd.DataFrame(lista_datos)\n",
    "df_datos.to_csv(\"../../data/senado_p1.csv\")"
   ]
  },
  {
   "cell_type": "code",
   "execution_count": 69,
   "metadata": {},
   "outputs": [],
   "source": [
    "for i, nombre in enumerate(df_datos.nombre):\n",
    "    with open('../../data/senado_fotos/' + nombre + '.jpg', 'wb') as file:\n",
    "        img = requests.get(df_datos.url_imagen[i])\n",
    "        file.write(img.content)"
   ]
  }
 ],
 "metadata": {
  "interpreter": {
   "hash": "3067ead486e059ec00ffe7555bdb889e6e264a24dc711bf108106cc7baee8d5d"
  },
  "kernelspec": {
   "display_name": "Python 3.8.8 64-bit ('base': conda)",
   "name": "python3"
  },
  "language_info": {
   "codemirror_mode": {
    "name": "ipython",
    "version": 3
   },
   "file_extension": ".py",
   "mimetype": "text/x-python",
   "name": "python",
   "nbconvert_exporter": "python",
   "pygments_lexer": "ipython3",
   "version": "3.8.8"
  },
  "orig_nbformat": 4
 },
 "nbformat": 4,
 "nbformat_minor": 2
}
